{
 "cells": [
  {
   "cell_type": "code",
   "execution_count": 2,
   "metadata": {},
   "outputs": [],
   "source": [
    "import numpy as np\n",
    "import pylab as pl\n",
    "\n",
    "from pykalman.datasets import load_robot\n",
    "from pykalman import KalmanFilter"
   ]
  },
  {
   "cell_type": "code",
   "execution_count": 3,
   "metadata": {},
   "outputs": [],
   "source": [
    "real=[[1.4367740368286626, 0.2124800734164753], [1.4367740368286626, 0.20747513993409167], [1.4367740368286626, 0.20080892058999156], [1.4334311351195415, 0.19415048461915935], [1.430095659203634, 0.1908241020015704], [1.4234468500723194, 0.1891616049849315], [1.4135284930184304, 0.1825161488238884], [1.406952441438129, 0.1825161488238884], [1.4004050351547115, 0.18749956529906034], [1.39063707378143, 0.1891616049849315], [1.3777110068390934, 0.19248706049585407], [1.368088779167178, 0.1908241020015704], [1.3617079410917141, 0.19415048461915935], [1.3553540060224778, 0.19747874638109375], [1.345873026260251, 0.20080892058999156], [1.3427258947892429, 0.2041410406231853], [1.3364512499578138, 0.20580784077507627], [1.3333236789560545, 0.20580784077507627], [1.3270878968339157, 0.20747513993409167], [1.3239796289931607, 0.20747513993409167], [1.320877739071145, 0.20747513993409167], [1.320877739071145, 0.2108112520535872], [1.320877739071145, 0.2124800734164753], [1.320877739071145, 0.2124800734164753], [1.320877739071145, 0.2108112520535872], [1.3239796289931607, 0.20914294229402247], [1.3239796289931607, 0.20914294229402247], [1.320877739071145, 0.20580784077507627], [1.320877739071145, 0.20747513993409167], [1.3239796289931607, 0.20747513993409167], [1.320877739071145, 0.20914294229402247], [1.320877739071145, 0.20747513993409167], [1.3177821990842828, 0.20914294229402247], [1.3146929811977595, 0.20914294229402247], [1.311610057724507, 0.20914294229402247], [1.308533401124189, 0.2108112520535872], [1.3054629840021885, 0.2108112520535872], [1.3023987791086127, 0.2108112520535872], [1.2962888977248177, 0.2108112520535872], [1.2932431674495293, 0.2124800734164753], [1.2902035418305824, 0.2108112520535872], [1.2902035418305824, 0.2108112520535872], [1.2902035418305824, 0.2108112520535872], [1.2871699943269674, 0.2108112520535872], [1.2841424985365655, 0.2108112520535872], [1.2841424985365655, 0.2108112520535872], [1.2811210281952, 0.2108112520535872], [1.2811210281952, 0.20914294229402247], [1.2811210281952, 0.2108112520535872], [1.2781055571756994, 0.2108112520535872]]\n",
    "real=np.array(real)"
   ]
  },
  {
   "cell_type": "code",
   "execution_count": 4,
   "metadata": {},
   "outputs": [],
   "source": [
    "#data = load_robot()\n",
    "#data.observations=real\n"
   ]
  },
  {
   "cell_type": "code",
   "execution_count": 7,
   "metadata": {},
   "outputs": [
    {
     "ename": "IndexError",
     "evalue": "index 2 is out of bounds for axis 0 with size 2",
     "output_type": "error",
     "traceback": [
      "\u001b[0;31m---------------------------------------------------------------------------\u001b[0m",
      "\u001b[0;31mIndexError\u001b[0m                                Traceback (most recent call last)",
      "\u001b[0;32m<ipython-input-7-2654c51b5a9c>\u001b[0m in \u001b[0;36m<module>\u001b[0;34m()\u001b[0m\n\u001b[1;32m     39\u001b[0m     blind_state_estimates[t + 1] = (\n\u001b[1;32m     40\u001b[0m       \u001b[0mnp\u001b[0m\u001b[0;34m.\u001b[0m\u001b[0mdot\u001b[0m\u001b[0;34m(\u001b[0m\u001b[0mkf\u001b[0m\u001b[0;34m.\u001b[0m\u001b[0mtransition_matrices\u001b[0m\u001b[0;34m,\u001b[0m \u001b[0mblind_state_estimates\u001b[0m\u001b[0;34m[\u001b[0m\u001b[0mt\u001b[0m\u001b[0;34m]\u001b[0m\u001b[0;34m)\u001b[0m\u001b[0;34m\u001b[0m\u001b[0m\n\u001b[0;32m---> 41\u001b[0;31m       \u001b[0;34m+\u001b[0m \u001b[0mkf\u001b[0m\u001b[0;34m.\u001b[0m\u001b[0mtransition_offsets\u001b[0m\u001b[0;34m[\u001b[0m\u001b[0mt\u001b[0m\u001b[0;34m]\u001b[0m\u001b[0;34m\u001b[0m\u001b[0m\n\u001b[0m\u001b[1;32m     42\u001b[0m     )\n\u001b[1;32m     43\u001b[0m \u001b[0;34m\u001b[0m\u001b[0m\n",
      "\u001b[0;31mIndexError\u001b[0m: index 2 is out of bounds for axis 0 with size 2"
     ]
    }
   ],
   "source": [
    "# specify parameters\n",
    "random_state = np.random.RandomState(0)\n",
    "transition_matrix = np.array([[1, 0.1], [0, 1]])\n",
    "transition_offset = [-0.1, 0.1]\n",
    "observation_matrix = np.eye(2) + random_state.randn(2, 2) * 0.1\n",
    "observation_offset = [1.0, -1.0]\n",
    "transition_covariance = np.eye(2)\n",
    "observation_covariance = np.eye(2) + random_state.randn(2, 2) * 0.1\n",
    "initial_state_mean = [5, -5]\n",
    "initial_state_covariance = [[1, 0.1], [-0.1, 1]]\n",
    "\n",
    "kf = KalmanFilter(\n",
    "    transition_matrix, observation_matrix, transition_covariance,\n",
    "    observation_covariance, transition_offset, observation_offset,\n",
    "    initial_state_mean, initial_state_covariance,\n",
    "    random_state=random_state,\n",
    "    em_vars=[\n",
    "      'transition_matrices', 'observation_matrices',\n",
    "      'transition_covariance', 'observation_covariance',\n",
    "      'observation_offsets', 'initial_state_mean',\n",
    "      'initial_state_covariance'\n",
    "    ]\n",
    ")\n",
    "\n",
    "# Learn good values for parameters named in `em_vars` using the EM algorithm\n",
    "loglikelihoods = np.zeros(10)\n",
    "for i in range(len(loglikelihoods)):\n",
    "    kf = kf.em(X=real, n_iter=1)\n",
    "    loglikelihoods[i] = kf.loglikelihood(real)\n",
    "\n",
    "# Estimate the state without using any observations.  This will let us see how\n",
    "# good we could do if we ran blind.\n",
    "n_dim_state = transition_matrix.shape[0]\n",
    "n_timesteps = real.shape[0]\n",
    "blind_state_estimates = np.zeros((n_timesteps, n_dim_state))\n",
    "for t in range(n_timesteps - 1):\n",
    "    if t == 0:\n",
    "        blind_state_estimates[t] = kf.initial_state_mean\n",
    "    blind_state_estimates[t + 1] = (\n",
    "      np.dot(kf.transition_matrices, blind_state_estimates[t])\n",
    "      + kf.transition_offsets[t]\n",
    "    )\n",
    "\n",
    "# Estimate the hidden states using observations up to and including\n",
    "# time t for t in [0...n_timesteps-1].  This method outputs the mean and\n",
    "# covariance characterizing the Multivariate Normal distribution for\n",
    "#   P(x_t | z_{1:t})\n",
    "filtered_state_estimates = kf.filter(real)[0]\n",
    "\n",
    "# Estimate the hidden states using all observations.  These estimates\n",
    "# will be 'smoother' (and are to be preferred) to those produced by\n",
    "# simply filtering as they are made with later observations in mind.\n",
    "# Probabilistically, this method produces the mean and covariance\n",
    "# characterizing,\n",
    "#    P(x_t | z_{1:n_timesteps})\n",
    "smoothed_state_estimates = kf.smooth(real)[0]\n",
    "\n",
    "# Draw the true, blind,e filtered, and smoothed state estimates for all 5\n",
    "# dimensions.\n",
    "pl.figure(figsize=(16, 6))\n",
    "lines_true = pl.plot(real, linestyle='-', color='b')\n",
    "lines_blind = pl.plot(blind_state_estimates, linestyle=':', color='m')\n",
    "lines_filt = pl.plot(filtered_state_estimates, linestyle='--', color='g')\n",
    "lines_smooth = pl.plot(smoothed_state_estimates, linestyle='-.', color='r')\n",
    "pl.legend(\n",
    "    (lines_true[0], lines_blind[0], lines_filt[0], lines_smooth[0]),\n",
    "    ('true', 'blind', 'filtered', 'smoothed')\n",
    ")\n",
    "pl.xlabel('time')\n",
    "pl.ylabel('state')\n",
    "pl.xlim(xmax=500)\n",
    "\n",
    "# Draw log likelihood of observations as a function of EM iteration number.\n",
    "# Notice how it is increasing (this is guaranteed by the EM algorithm)\n",
    "pl.figure()\n",
    "pl.plot(loglikelihoods)\n",
    "pl.xlabel('em iteration number')\n",
    "pl.ylabel('log likelihood')\n",
    "pl.show()"
   ]
  },
  {
   "cell_type": "code",
   "execution_count": 6,
   "metadata": {},
   "outputs": [
    {
     "ename": "AttributeError",
     "evalue": "'list' object has no attribute 'shape'",
     "output_type": "error",
     "traceback": [
      "\u001b[0;31m---------------------------------------------------------------------------\u001b[0m",
      "\u001b[0;31mAttributeError\u001b[0m                            Traceback (most recent call last)",
      "\u001b[0;32m<ipython-input-6-1abcf92d2b81>\u001b[0m in \u001b[0;36m<module>\u001b[0;34m()\u001b[0m\n\u001b[0;32m----> 1\u001b[0;31m \u001b[0;32mprint\u001b[0m \u001b[0mtransition_matrix\u001b[0m\u001b[0;34m.\u001b[0m\u001b[0mshape\u001b[0m\u001b[0;34m\u001b[0m\u001b[0m\n\u001b[0m",
      "\u001b[0;31mAttributeError\u001b[0m: 'list' object has no attribute 'shape'"
     ]
    }
   ],
   "source": [
    "print transition_matrix.shape"
   ]
  },
  {
   "cell_type": "code",
   "execution_count": null,
   "metadata": {},
   "outputs": [],
   "source": []
  }
 ],
 "metadata": {
  "kernelspec": {
   "display_name": "Python 2",
   "language": "python",
   "name": "python2"
  },
  "language_info": {
   "codemirror_mode": {
    "name": "ipython",
    "version": 2
   },
   "file_extension": ".py",
   "mimetype": "text/x-python",
   "name": "python",
   "nbconvert_exporter": "python",
   "pygments_lexer": "ipython2",
   "version": "2.7.12"
  }
 },
 "nbformat": 4,
 "nbformat_minor": 2
}
